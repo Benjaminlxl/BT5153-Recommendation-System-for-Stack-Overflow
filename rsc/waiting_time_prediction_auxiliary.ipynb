{
 "cells": [
  {
   "cell_type": "markdown",
   "metadata": {},
   "source": [
    "# Modeling"
   ]
  },
  {
   "cell_type": "code",
   "execution_count": 1,
   "metadata": {},
   "outputs": [],
   "source": [
    "import numpy as np\n",
    "import pandas as pd\n",
    "import matplotlib.pyplot as plt\n",
    "import seaborn as sns\n",
    "%matplotlib inline\n",
    "from scipy.sparse import csr_matrix\n",
    "\n",
    "# Machine Learning Models\n",
    "from sklearn.linear_model import LogisticRegression\n",
    "from sklearn.ensemble import RandomForestClassifier\n",
    "from xgboost import XGBClassifier\n",
    "from sklearn.naive_bayes import GaussianNB\n",
    "from sklearn.svm import SVC\n",
    "from sklearn.ensemble import AdaBoostClassifier\n",
    "from lightgbm import LGBMClassifier\n",
    "\n",
    "# Resampling\n",
    "from imblearn.over_sampling import SMOTE\n",
    "from imblearn.under_sampling import RandomUnderSampler\n",
    "from imblearn.over_sampling import RandomOverSampler\n",
    "\n",
    "\n",
    "# Preprocessing\n",
    "from sklearn.preprocessing import StandardScaler\n",
    "from sklearn.preprocessing import OneHotEncoder\n",
    "\n",
    "# Feature selection\n",
    "from sklearn.model_selection import train_test_split\n",
    "from sklearn.feature_selection import SelectFromModel\n",
    "\n",
    "# Tuning\n",
    "from sklearn.model_selection import GridSearchCV\n",
    "from sklearn.pipeline import Pipeline\n",
    "#from skopt import BayesSearchCV\n",
    "#from skopt.space import Real, Categorical, Integer\n",
    "\n",
    "# Evaluation\n",
    "from sklearn.metrics import f1_score, accuracy_score,confusion_matrix,classification_report\n",
    "\n",
    "# Deep Learning Model\n",
    "from keras.models import Sequential\n",
    "from keras.layers import Dense,Dropout\n",
    "from keras.utils import to_categorical\n",
    "from keras.optimizers import Adam\n",
    "from keras.wrappers.scikit_learn import KerasClassifier\n",
    "\n",
    "plt.style.use('seaborn')"
   ]
  },
  {
   "cell_type": "markdown",
   "metadata": {},
   "source": [
    "## 1. Import Data"
   ]
  },
  {
   "cell_type": "code",
   "execution_count": 2,
   "metadata": {},
   "outputs": [
    {
     "name": "stdout",
     "output_type": "stream",
     "text": [
      "<class 'pandas.core.frame.DataFrame'>\n",
      "RangeIndex: 190234 entries, 0 to 190233\n",
      "Columns: 133 entries, Id to tag_class1_numbers\n",
      "dtypes: float64(1), int64(120), object(12)\n",
      "memory usage: 193.0+ MB\n"
     ]
    }
   ],
   "source": [
    "data = pd.read_csv('/Users/chenyiqiu/Desktop/Semester 2/BT5153/Final project/processing/python_data_v8.csv')\n",
    "data.info()"
   ]
  },
  {
   "cell_type": "code",
   "execution_count": 3,
   "metadata": {},
   "outputs": [
    {
     "data": {
      "text/html": [
       "<div>\n",
       "<style scoped>\n",
       "    .dataframe tbody tr th:only-of-type {\n",
       "        vertical-align: middle;\n",
       "    }\n",
       "\n",
       "    .dataframe tbody tr th {\n",
       "        vertical-align: top;\n",
       "    }\n",
       "\n",
       "    .dataframe thead th {\n",
       "        text-align: right;\n",
       "    }\n",
       "</style>\n",
       "<table border=\"1\" class=\"dataframe\">\n",
       "  <thead>\n",
       "    <tr style=\"text-align: right;\">\n",
       "      <th></th>\n",
       "      <th>Id</th>\n",
       "      <th>Title</th>\n",
       "      <th>QuestionBody</th>\n",
       "      <th>AnswerBody</th>\n",
       "      <th>QuestionTime</th>\n",
       "      <th>AnswerTime</th>\n",
       "      <th>AnswerTimeDiff</th>\n",
       "      <th>Tags</th>\n",
       "      <th>UserId</th>\n",
       "      <th>UserReputation</th>\n",
       "      <th>...</th>\n",
       "      <th>python-asyncio</th>\n",
       "      <th>python-imaging-library</th>\n",
       "      <th>windows</th>\n",
       "      <th>tags_text</th>\n",
       "      <th>tag_numbers</th>\n",
       "      <th>Tag_Score</th>\n",
       "      <th>Weekday</th>\n",
       "      <th>tags_text_new</th>\n",
       "      <th>tag_class0_numbers</th>\n",
       "      <th>tag_class1_numbers</th>\n",
       "    </tr>\n",
       "  </thead>\n",
       "  <tbody>\n",
       "    <tr>\n",
       "      <th>0</th>\n",
       "      <td>53992234</td>\n",
       "      <td>How to rearrange subplots so that one is under...</td>\n",
       "      <td>&lt;p&gt;I am trying to code two plots such that one...</td>\n",
       "      <td>&lt;p&gt;The way the numbers work in &lt;a href=\"https:...</td>\n",
       "      <td>2019-01-01 00:05:48</td>\n",
       "      <td>2019-01-01 00:12:23</td>\n",
       "      <td>7</td>\n",
       "      <td>&lt;python&gt;&lt;matplotlib&gt;&lt;subplot&gt;</td>\n",
       "      <td>10783174</td>\n",
       "      <td>89</td>\n",
       "      <td>...</td>\n",
       "      <td>0</td>\n",
       "      <td>0</td>\n",
       "      <td>0</td>\n",
       "      <td>python matplotlib subplot</td>\n",
       "      <td>3</td>\n",
       "      <td>59238.33</td>\n",
       "      <td>1</td>\n",
       "      <td>matplotlib subplot</td>\n",
       "      <td>1</td>\n",
       "      <td>2</td>\n",
       "    </tr>\n",
       "    <tr>\n",
       "      <th>1</th>\n",
       "      <td>53992303</td>\n",
       "      <td>Python dominate package | add &lt;style&gt; to an html</td>\n",
       "      <td>&lt;p&gt;I'm trying to generate an html with the dom...</td>\n",
       "      <td>&lt;p&gt;Is this what you are after? &lt;a href=\"https:...</td>\n",
       "      <td>2019-01-01 00:23:25</td>\n",
       "      <td>2019-01-01 04:38:00</td>\n",
       "      <td>255</td>\n",
       "      <td>&lt;python&gt;&lt;html&gt;&lt;css&gt;&lt;dominate&gt;</td>\n",
       "      <td>9986139</td>\n",
       "      <td>211</td>\n",
       "      <td>...</td>\n",
       "      <td>0</td>\n",
       "      <td>0</td>\n",
       "      <td>0</td>\n",
       "      <td>python html css dominate</td>\n",
       "      <td>4</td>\n",
       "      <td>43295.50</td>\n",
       "      <td>1</td>\n",
       "      <td>html css dominate</td>\n",
       "      <td>1</td>\n",
       "      <td>3</td>\n",
       "    </tr>\n",
       "    <tr>\n",
       "      <th>2</th>\n",
       "      <td>53992436</td>\n",
       "      <td>How to assign without instantiating</td>\n",
       "      <td>&lt;p&gt;I need to remove a item from a list and the...</td>\n",
       "      <td>&lt;p&gt;Replace this line:&lt;/p&gt;\\n\\n&lt;pre&gt;&lt;code&gt;x=x2\\n...</td>\n",
       "      <td>2019-01-01 01:08:26</td>\n",
       "      <td>2019-01-01 01:11:38</td>\n",
       "      <td>3</td>\n",
       "      <td>&lt;python&gt;</td>\n",
       "      <td>10659353</td>\n",
       "      <td>167</td>\n",
       "      <td>...</td>\n",
       "      <td>0</td>\n",
       "      <td>0</td>\n",
       "      <td>0</td>\n",
       "      <td>python</td>\n",
       "      <td>1</td>\n",
       "      <td>170927.00</td>\n",
       "      <td>1</td>\n",
       "      <td>NaN</td>\n",
       "      <td>0</td>\n",
       "      <td>0</td>\n",
       "    </tr>\n",
       "    <tr>\n",
       "      <th>3</th>\n",
       "      <td>53992494</td>\n",
       "      <td>Dataframe filter with multi-index: return all ...</td>\n",
       "      <td>&lt;p&gt;I'm looking for the syntax to return all fi...</td>\n",
       "      <td>&lt;p&gt;You can use &lt;code&gt;groupby&lt;/code&gt; on level =...</td>\n",
       "      <td>2019-01-01 01:23:31</td>\n",
       "      <td>2019-01-01 02:40:14</td>\n",
       "      <td>77</td>\n",
       "      <td>&lt;python&gt;&lt;pandas&gt;&lt;multi-index&gt;</td>\n",
       "      <td>10853168</td>\n",
       "      <td>21</td>\n",
       "      <td>...</td>\n",
       "      <td>0</td>\n",
       "      <td>0</td>\n",
       "      <td>0</td>\n",
       "      <td>python pandas multi-index</td>\n",
       "      <td>3</td>\n",
       "      <td>70674.00</td>\n",
       "      <td>1</td>\n",
       "      <td>multi-index</td>\n",
       "      <td>1</td>\n",
       "      <td>1</td>\n",
       "    </tr>\n",
       "    <tr>\n",
       "      <th>4</th>\n",
       "      <td>53992552</td>\n",
       "      <td>Python/Flask - suddenly getting \"ImportError: ...</td>\n",
       "      <td>&lt;p&gt;I'm running into what I believe is a fairly...</td>\n",
       "      <td>&lt;p&gt;You should add &lt;code&gt;\"my_app.lib\"&lt;/code&gt; to...</td>\n",
       "      <td>2019-01-01 01:42:03</td>\n",
       "      <td>2019-01-01 09:26:23</td>\n",
       "      <td>464</td>\n",
       "      <td>&lt;python&gt;&lt;python-3.x&gt;&lt;flask&gt;</td>\n",
       "      <td>5203069</td>\n",
       "      <td>5630</td>\n",
       "      <td>...</td>\n",
       "      <td>0</td>\n",
       "      <td>0</td>\n",
       "      <td>0</td>\n",
       "      <td>python python-3.x flask</td>\n",
       "      <td>3</td>\n",
       "      <td>68323.00</td>\n",
       "      <td>1</td>\n",
       "      <td>flask</td>\n",
       "      <td>1</td>\n",
       "      <td>1</td>\n",
       "    </tr>\n",
       "  </tbody>\n",
       "</table>\n",
       "<p>5 rows × 133 columns</p>\n",
       "</div>"
      ],
      "text/plain": [
       "         Id                                              Title  \\\n",
       "0  53992234  How to rearrange subplots so that one is under...   \n",
       "1  53992303   Python dominate package | add <style> to an html   \n",
       "2  53992436                How to assign without instantiating   \n",
       "3  53992494  Dataframe filter with multi-index: return all ...   \n",
       "4  53992552  Python/Flask - suddenly getting \"ImportError: ...   \n",
       "\n",
       "                                        QuestionBody  \\\n",
       "0  <p>I am trying to code two plots such that one...   \n",
       "1  <p>I'm trying to generate an html with the dom...   \n",
       "2  <p>I need to remove a item from a list and the...   \n",
       "3  <p>I'm looking for the syntax to return all fi...   \n",
       "4  <p>I'm running into what I believe is a fairly...   \n",
       "\n",
       "                                          AnswerBody         QuestionTime  \\\n",
       "0  <p>The way the numbers work in <a href=\"https:...  2019-01-01 00:05:48   \n",
       "1  <p>Is this what you are after? <a href=\"https:...  2019-01-01 00:23:25   \n",
       "2  <p>Replace this line:</p>\\n\\n<pre><code>x=x2\\n...  2019-01-01 01:08:26   \n",
       "3  <p>You can use <code>groupby</code> on level =...  2019-01-01 01:23:31   \n",
       "4  <p>You should add <code>\"my_app.lib\"</code> to...  2019-01-01 01:42:03   \n",
       "\n",
       "            AnswerTime  AnswerTimeDiff                           Tags  \\\n",
       "0  2019-01-01 00:12:23               7  <python><matplotlib><subplot>   \n",
       "1  2019-01-01 04:38:00             255  <python><html><css><dominate>   \n",
       "2  2019-01-01 01:11:38               3                       <python>   \n",
       "3  2019-01-01 02:40:14              77  <python><pandas><multi-index>   \n",
       "4  2019-01-01 09:26:23             464    <python><python-3.x><flask>   \n",
       "\n",
       "     UserId  UserReputation  ...  python-asyncio  python-imaging-library  \\\n",
       "0  10783174              89  ...               0                       0   \n",
       "1   9986139             211  ...               0                       0   \n",
       "2  10659353             167  ...               0                       0   \n",
       "3  10853168              21  ...               0                       0   \n",
       "4   5203069            5630  ...               0                       0   \n",
       "\n",
       "   windows                  tags_text tag_numbers  Tag_Score Weekday  \\\n",
       "0        0  python matplotlib subplot           3   59238.33       1   \n",
       "1        0   python html css dominate           4   43295.50       1   \n",
       "2        0                     python           1  170927.00       1   \n",
       "3        0  python pandas multi-index           3   70674.00       1   \n",
       "4        0    python python-3.x flask           3   68323.00       1   \n",
       "\n",
       "        tags_text_new  tag_class0_numbers  tag_class1_numbers  \n",
       "0  matplotlib subplot                   1                   2  \n",
       "1   html css dominate                   1                   3  \n",
       "2                 NaN                   0                   0  \n",
       "3         multi-index                   1                   1  \n",
       "4               flask                   1                   1  \n",
       "\n",
       "[5 rows x 133 columns]"
      ]
     },
     "execution_count": 3,
     "metadata": {},
     "output_type": "execute_result"
    }
   ],
   "source": [
    "data.head()"
   ]
  },
  {
   "cell_type": "code",
   "execution_count": 4,
   "metadata": {},
   "outputs": [],
   "source": [
    "seed = 2021"
   ]
  },
  {
   "cell_type": "markdown",
   "metadata": {},
   "source": [
    "#### Split train and test set"
   ]
  },
  {
   "cell_type": "code",
   "execution_count": 5,
   "metadata": {},
   "outputs": [],
   "source": [
    "X = data.drop(columns = ['Id','Title','QuestionBody','AnswerBody','QuestionTime','AnswerTime','tags_text','tags_text_new',\n",
    "              'AnswerTimeDiff','Tags','UserId','waiting_time_range','clean_title','clean_question','clean_answer'])\n",
    "y = data['waiting_time_range']"
   ]
  },
  {
   "cell_type": "code",
   "execution_count": 6,
   "metadata": {},
   "outputs": [],
   "source": [
    "X_train, X_test, y_train, y_test = train_test_split(X, y, stratify=y, test_size=0.2, random_state=seed)"
   ]
  },
  {
   "cell_type": "code",
   "execution_count": 7,
   "metadata": {},
   "outputs": [
    {
     "data": {
      "text/html": [
       "<div>\n",
       "<style scoped>\n",
       "    .dataframe tbody tr th:only-of-type {\n",
       "        vertical-align: middle;\n",
       "    }\n",
       "\n",
       "    .dataframe tbody tr th {\n",
       "        vertical-align: top;\n",
       "    }\n",
       "\n",
       "    .dataframe thead th {\n",
       "        text-align: right;\n",
       "    }\n",
       "</style>\n",
       "<table border=\"1\" class=\"dataframe\">\n",
       "  <thead>\n",
       "    <tr style=\"text-align: right;\">\n",
       "      <th></th>\n",
       "      <th>UserReputation</th>\n",
       "      <th>UserPageViews</th>\n",
       "      <th>UserUpVote</th>\n",
       "      <th>UserDownVotes</th>\n",
       "      <th>BadgeNum</th>\n",
       "      <th>Title_Char_Length</th>\n",
       "      <th>Question_Char_Length</th>\n",
       "      <th>Title_word_counts</th>\n",
       "      <th>Question_word_counts</th>\n",
       "      <th>code_include</th>\n",
       "      <th>...</th>\n",
       "      <th>time-series</th>\n",
       "      <th>split</th>\n",
       "      <th>python-asyncio</th>\n",
       "      <th>python-imaging-library</th>\n",
       "      <th>windows</th>\n",
       "      <th>tag_numbers</th>\n",
       "      <th>Tag_Score</th>\n",
       "      <th>Weekday</th>\n",
       "      <th>tag_class0_numbers</th>\n",
       "      <th>tag_class1_numbers</th>\n",
       "    </tr>\n",
       "  </thead>\n",
       "  <tbody>\n",
       "    <tr>\n",
       "      <th>60202</th>\n",
       "      <td>12358</td>\n",
       "      <td>1519</td>\n",
       "      <td>4163</td>\n",
       "      <td>81</td>\n",
       "      <td>82</td>\n",
       "      <td>56</td>\n",
       "      <td>752</td>\n",
       "      <td>7</td>\n",
       "      <td>133</td>\n",
       "      <td>1</td>\n",
       "      <td>...</td>\n",
       "      <td>0</td>\n",
       "      <td>0</td>\n",
       "      <td>0</td>\n",
       "      <td>0</td>\n",
       "      <td>0</td>\n",
       "      <td>2</td>\n",
       "      <td>87388.5</td>\n",
       "      <td>1</td>\n",
       "      <td>1</td>\n",
       "      <td>1</td>\n",
       "    </tr>\n",
       "    <tr>\n",
       "      <th>123149</th>\n",
       "      <td>126</td>\n",
       "      <td>14</td>\n",
       "      <td>3</td>\n",
       "      <td>0</td>\n",
       "      <td>2</td>\n",
       "      <td>47</td>\n",
       "      <td>1054</td>\n",
       "      <td>6</td>\n",
       "      <td>182</td>\n",
       "      <td>1</td>\n",
       "      <td>...</td>\n",
       "      <td>0</td>\n",
       "      <td>0</td>\n",
       "      <td>0</td>\n",
       "      <td>0</td>\n",
       "      <td>0</td>\n",
       "      <td>5</td>\n",
       "      <td>34844.8</td>\n",
       "      <td>1</td>\n",
       "      <td>2</td>\n",
       "      <td>4</td>\n",
       "    </tr>\n",
       "    <tr>\n",
       "      <th>44487</th>\n",
       "      <td>4033</td>\n",
       "      <td>392</td>\n",
       "      <td>388</td>\n",
       "      <td>611</td>\n",
       "      <td>23</td>\n",
       "      <td>54</td>\n",
       "      <td>930</td>\n",
       "      <td>8</td>\n",
       "      <td>179</td>\n",
       "      <td>1</td>\n",
       "      <td>...</td>\n",
       "      <td>0</td>\n",
       "      <td>0</td>\n",
       "      <td>0</td>\n",
       "      <td>0</td>\n",
       "      <td>0</td>\n",
       "      <td>5</td>\n",
       "      <td>8727.8</td>\n",
       "      <td>1</td>\n",
       "      <td>0</td>\n",
       "      <td>3</td>\n",
       "    </tr>\n",
       "    <tr>\n",
       "      <th>72032</th>\n",
       "      <td>506</td>\n",
       "      <td>147</td>\n",
       "      <td>36</td>\n",
       "      <td>6</td>\n",
       "      <td>9</td>\n",
       "      <td>79</td>\n",
       "      <td>325</td>\n",
       "      <td>10</td>\n",
       "      <td>45</td>\n",
       "      <td>0</td>\n",
       "      <td>...</td>\n",
       "      <td>0</td>\n",
       "      <td>0</td>\n",
       "      <td>0</td>\n",
       "      <td>0</td>\n",
       "      <td>0</td>\n",
       "      <td>3</td>\n",
       "      <td>57051.0</td>\n",
       "      <td>1</td>\n",
       "      <td>0</td>\n",
       "      <td>2</td>\n",
       "    </tr>\n",
       "    <tr>\n",
       "      <th>77905</th>\n",
       "      <td>2904</td>\n",
       "      <td>657</td>\n",
       "      <td>1500</td>\n",
       "      <td>6</td>\n",
       "      <td>9</td>\n",
       "      <td>53</td>\n",
       "      <td>672</td>\n",
       "      <td>8</td>\n",
       "      <td>135</td>\n",
       "      <td>1</td>\n",
       "      <td>...</td>\n",
       "      <td>0</td>\n",
       "      <td>0</td>\n",
       "      <td>0</td>\n",
       "      <td>0</td>\n",
       "      <td>0</td>\n",
       "      <td>3</td>\n",
       "      <td>24715.0</td>\n",
       "      <td>0</td>\n",
       "      <td>1</td>\n",
       "      <td>1</td>\n",
       "    </tr>\n",
       "  </tbody>\n",
       "</table>\n",
       "<p>5 rows × 118 columns</p>\n",
       "</div>"
      ],
      "text/plain": [
       "        UserReputation  UserPageViews  UserUpVote  UserDownVotes  BadgeNum  \\\n",
       "60202            12358           1519        4163             81        82   \n",
       "123149             126             14           3              0         2   \n",
       "44487             4033            392         388            611        23   \n",
       "72032              506            147          36              6         9   \n",
       "77905             2904            657        1500              6         9   \n",
       "\n",
       "        Title_Char_Length  Question_Char_Length  Title_word_counts  \\\n",
       "60202                  56                   752                  7   \n",
       "123149                 47                  1054                  6   \n",
       "44487                  54                   930                  8   \n",
       "72032                  79                   325                 10   \n",
       "77905                  53                   672                  8   \n",
       "\n",
       "        Question_word_counts  code_include  ...  time-series  split  \\\n",
       "60202                    133             1  ...            0      0   \n",
       "123149                   182             1  ...            0      0   \n",
       "44487                    179             1  ...            0      0   \n",
       "72032                     45             0  ...            0      0   \n",
       "77905                    135             1  ...            0      0   \n",
       "\n",
       "        python-asyncio  python-imaging-library  windows  tag_numbers  \\\n",
       "60202                0                       0        0            2   \n",
       "123149               0                       0        0            5   \n",
       "44487                0                       0        0            5   \n",
       "72032                0                       0        0            3   \n",
       "77905                0                       0        0            3   \n",
       "\n",
       "        Tag_Score  Weekday  tag_class0_numbers  tag_class1_numbers  \n",
       "60202     87388.5        1                   1                   1  \n",
       "123149    34844.8        1                   2                   4  \n",
       "44487      8727.8        1                   0                   3  \n",
       "72032     57051.0        1                   0                   2  \n",
       "77905     24715.0        0                   1                   1  \n",
       "\n",
       "[5 rows x 118 columns]"
      ]
     },
     "execution_count": 7,
     "metadata": {},
     "output_type": "execute_result"
    }
   ],
   "source": [
    "X_train.head()"
   ]
  },
  {
   "cell_type": "code",
   "execution_count": 8,
   "metadata": {},
   "outputs": [
    {
     "data": {
      "text/plain": [
       "Index(['UserReputation', 'UserPageViews', 'UserUpVote', 'UserDownVotes',\n",
       "       'BadgeNum', 'Title_Char_Length', 'Question_Char_Length',\n",
       "       'Title_word_counts', 'Question_word_counts', 'code_include',\n",
       "       ...\n",
       "       'time-series', 'split', 'python-asyncio', 'python-imaging-library',\n",
       "       'windows', 'tag_numbers', 'Tag_Score', 'Weekday', 'tag_class0_numbers',\n",
       "       'tag_class1_numbers'],\n",
       "      dtype='object', length=118)"
      ]
     },
     "execution_count": 8,
     "metadata": {},
     "output_type": "execute_result"
    }
   ],
   "source": [
    "X_train.columns"
   ]
  },
  {
   "cell_type": "markdown",
   "metadata": {},
   "source": [
    "#### Scaling data"
   ]
  },
  {
   "cell_type": "code",
   "execution_count": 85,
   "metadata": {},
   "outputs": [],
   "source": [
    "scale_feature = ['UserReputation','UserPageViews', 'UserUpVote', 'UserDownVotes',\n",
    "                 'BadgeNum', 'Title_Char_Length', 'Question_Char_Length',\n",
    "                 'Title_word_counts', 'Question_word_counts', 'Question_code_len',\n",
    "                 'Question_code_num', 'tag_numbers', 'Tag_Score','tag_class0_numbers','tag_class1_numbers']"
   ]
  },
  {
   "cell_type": "code",
   "execution_count": 86,
   "metadata": {},
   "outputs": [],
   "source": [
    "X_train_norm = X_train.copy(deep = True)\n",
    "X_test_norm = X_test.copy(deep = True)\n",
    "\n",
    "scaler = StandardScaler()\n",
    "scaler.fit(X_train[scale_feature])\n",
    "X_train_norm[scale_feature] = scaler.transform(X_train[scale_feature])\n",
    "X_test_norm[scale_feature] = scaler.transform(X_test_norm[scale_feature])"
   ]
  },
  {
   "cell_type": "code",
   "execution_count": 87,
   "metadata": {},
   "outputs": [],
   "source": [
    "X_train_norm = pd.DataFrame(X_train_norm)\n",
    "X_test_norm = pd.DataFrame(X_test_norm)\n",
    "X_train_norm.columns = X_train.columns\n",
    "X_test_norm.columns = X_train.columns"
   ]
  },
  {
   "cell_type": "markdown",
   "metadata": {},
   "source": [
    "# 2. Modeling"
   ]
  },
  {
   "cell_type": "markdown",
   "metadata": {},
   "source": [
    "<a href=#p1>2.1 Baseline</a>\n",
    "\n",
    "<a href=#p2>2.2 Baseline Tuning</a>\n",
    "\n",
    "<a href=#p3>2.3 Feature Selection(worse)</a>"
   ]
  },
  {
   "cell_type": "markdown",
   "metadata": {},
   "source": [
    "<a name='p1' /></a>\n",
    "## 2.1 Baseline"
   ]
  },
  {
   "cell_type": "code",
   "execution_count": 88,
   "metadata": {},
   "outputs": [],
   "source": [
    "def Clf_train(classifier, X_train_norm, y_train, X_test_norm):    \n",
    "    # classifier\n",
    "    clf = classifier\n",
    "    # fit data\n",
    "    clf.fit(X_train_norm, y_train)\n",
    "    # get predictions\n",
    "    y_pred = clf.predict(X_test_norm) # get predicted class\n",
    "    y_proba = clf.predict_proba(X_test_norm) # get predicted prob.\n",
    "        \n",
    "    # generate confusion matrix\n",
    "    cm = pd.DataFrame(confusion_matrix(y_true=y_test, y_pred=y_pred), \\\n",
    "                      index=['Actual: 0', 'Actual: 1'], \\\n",
    "                      columns=['Pred: 0', 'Pred: 1'])\n",
    "    \n",
    "    # accuracy\n",
    "    score = accuracy_score(y_test, y_pred)\n",
    "    \n",
    "    # f1-score\n",
    "    f1 = f1_score(y_true=y_test, y_pred=y_pred, average='macro')\n",
    "    \n",
    "    return cm, score, f1"
   ]
  },
  {
   "cell_type": "code",
   "execution_count": 89,
   "metadata": {},
   "outputs": [],
   "source": [
    "def model_fit(X_train_df, y_train_df, X_test_df):\n",
    "    models = {\n",
    "    \"Naive Bayes\": GaussianNB(),\n",
    "    \"Logistic Regression\": LogisticRegression(max_iter=1000, random_state = seed),    \n",
    "    \"Random Forest\": RandomForestClassifier(random_state = seed),\n",
    "    \"XGBoost\": XGBClassifier(random_state = seed),\n",
    "    \"LightGBM\": LGBMClassifier(random_state = seed)\n",
    "    }\n",
    "        \n",
    "    accuracy_score = []\n",
    "    f1_score = []\n",
    "\n",
    "    for model_name in models:\n",
    "        model = models[model_name]\n",
    "        cm, score, f1 = Clf_train(model,X_train_df,y_train_df,X_test_df)\n",
    "        accuracy_score.append([model_name,score])\n",
    "        f1_score.append([model_name,f1])\n",
    "        print(\"{}{}{}\".format(model_name, \" accuracy: \", score))\n",
    "        print(\"{}{}{}\".format(model_name, \" f1 score: \", f1))\n",
    "        print(\"Confusion matrix:\")\n",
    "        print(cm)\n",
    "        print(\"==\"*20+\"**\"*10+\"==\"*20)\n",
    "    \n",
    "    return accuracy_score, f1_score"
   ]
  },
  {
   "cell_type": "code",
   "execution_count": 90,
   "metadata": {},
   "outputs": [
    {
     "name": "stdout",
     "output_type": "stream",
     "text": [
      "Naive Bayes accuracy: 0.6371855862485872\n",
      "Naive Bayes f1 score: 0.6172507286436211\n",
      "Confusion matrix:\n",
      "           Pred: 0  Pred: 1\n",
      "Actual: 0    16463     3684\n",
      "Actual: 1    10120     7780\n",
      "========================================********************========================================\n",
      "Logistic Regression accuracy: 0.6954819039608905\n",
      "Logistic Regression f1 score: 0.692219730259774\n",
      "Confusion matrix:\n",
      "           Pred: 0  Pred: 1\n",
      "Actual: 0    15189     4958\n",
      "Actual: 1     6628    11272\n",
      "========================================********************========================================\n",
      "Random Forest accuracy: 0.6970063342707704\n",
      "Random Forest f1 score: 0.6956337549275936\n",
      "Confusion matrix:\n",
      "           Pred: 0  Pred: 1\n",
      "Actual: 0    14537     5610\n",
      "Actual: 1     5918    11982\n",
      "========================================********************========================================\n",
      "XGBoost accuracy: 0.702946355823061\n",
      "XGBoost f1 score: 0.7016489133533057\n",
      "Confusion matrix:\n",
      "           Pred: 0  Pred: 1\n",
      "Actual: 0    14627     5520\n",
      "Actual: 1     5782    12118\n",
      "========================================********************========================================\n",
      "LightGBM accuracy: 0.7050753016006518\n",
      "LightGBM f1 score: 0.7039860128846346\n",
      "Confusion matrix:\n",
      "           Pred: 0  Pred: 1\n",
      "Actual: 0    14567     5580\n",
      "Actual: 1     5641    12259\n",
      "========================================********************========================================\n"
     ]
    }
   ],
   "source": [
    "accuracy_base, f1_base = model_fit(X_train_norm, y_train, X_test_norm)"
   ]
  },
  {
   "cell_type": "code",
   "execution_count": 91,
   "metadata": {},
   "outputs": [
    {
     "data": {
      "text/html": [
       "<div>\n",
       "<style scoped>\n",
       "    .dataframe tbody tr th:only-of-type {\n",
       "        vertical-align: middle;\n",
       "    }\n",
       "\n",
       "    .dataframe tbody tr th {\n",
       "        vertical-align: top;\n",
       "    }\n",
       "\n",
       "    .dataframe thead th {\n",
       "        text-align: right;\n",
       "    }\n",
       "</style>\n",
       "<table border=\"1\" class=\"dataframe\">\n",
       "  <thead>\n",
       "    <tr style=\"text-align: right;\">\n",
       "      <th></th>\n",
       "      <th>model</th>\n",
       "      <th>Accuracy</th>\n",
       "    </tr>\n",
       "  </thead>\n",
       "  <tbody>\n",
       "    <tr>\n",
       "      <th>0</th>\n",
       "      <td>Naive Bayes</td>\n",
       "      <td>0.637186</td>\n",
       "    </tr>\n",
       "    <tr>\n",
       "      <th>1</th>\n",
       "      <td>Logistic Regression</td>\n",
       "      <td>0.695482</td>\n",
       "    </tr>\n",
       "    <tr>\n",
       "      <th>2</th>\n",
       "      <td>Random Forest</td>\n",
       "      <td>0.697006</td>\n",
       "    </tr>\n",
       "    <tr>\n",
       "      <th>3</th>\n",
       "      <td>XGBoost</td>\n",
       "      <td>0.702946</td>\n",
       "    </tr>\n",
       "    <tr>\n",
       "      <th>4</th>\n",
       "      <td>LightGBM</td>\n",
       "      <td>0.705075</td>\n",
       "    </tr>\n",
       "  </tbody>\n",
       "</table>\n",
       "</div>"
      ],
      "text/plain": [
       "                 model  Accuracy\n",
       "0          Naive Bayes  0.637186\n",
       "1  Logistic Regression  0.695482\n",
       "2        Random Forest  0.697006\n",
       "3              XGBoost  0.702946\n",
       "4             LightGBM  0.705075"
      ]
     },
     "execution_count": 91,
     "metadata": {},
     "output_type": "execute_result"
    }
   ],
   "source": [
    "accuracy_base = pd.DataFrame(accuracy_base, columns = ['model','Accuracy'])\n",
    "accuracy_base"
   ]
  },
  {
   "cell_type": "code",
   "execution_count": 92,
   "metadata": {
    "scrolled": true
   },
   "outputs": [
    {
     "data": {
      "text/html": [
       "<div>\n",
       "<style scoped>\n",
       "    .dataframe tbody tr th:only-of-type {\n",
       "        vertical-align: middle;\n",
       "    }\n",
       "\n",
       "    .dataframe tbody tr th {\n",
       "        vertical-align: top;\n",
       "    }\n",
       "\n",
       "    .dataframe thead th {\n",
       "        text-align: right;\n",
       "    }\n",
       "</style>\n",
       "<table border=\"1\" class=\"dataframe\">\n",
       "  <thead>\n",
       "    <tr style=\"text-align: right;\">\n",
       "      <th></th>\n",
       "      <th>model</th>\n",
       "      <th>F1_score</th>\n",
       "    </tr>\n",
       "  </thead>\n",
       "  <tbody>\n",
       "    <tr>\n",
       "      <th>0</th>\n",
       "      <td>Naive Bayes</td>\n",
       "      <td>0.617251</td>\n",
       "    </tr>\n",
       "    <tr>\n",
       "      <th>1</th>\n",
       "      <td>Logistic Regression</td>\n",
       "      <td>0.692220</td>\n",
       "    </tr>\n",
       "    <tr>\n",
       "      <th>2</th>\n",
       "      <td>Random Forest</td>\n",
       "      <td>0.695634</td>\n",
       "    </tr>\n",
       "    <tr>\n",
       "      <th>3</th>\n",
       "      <td>XGBoost</td>\n",
       "      <td>0.701649</td>\n",
       "    </tr>\n",
       "    <tr>\n",
       "      <th>4</th>\n",
       "      <td>LightGBM</td>\n",
       "      <td>0.703986</td>\n",
       "    </tr>\n",
       "  </tbody>\n",
       "</table>\n",
       "</div>"
      ],
      "text/plain": [
       "                 model  F1_score\n",
       "0          Naive Bayes  0.617251\n",
       "1  Logistic Regression  0.692220\n",
       "2        Random Forest  0.695634\n",
       "3              XGBoost  0.701649\n",
       "4             LightGBM  0.703986"
      ]
     },
     "execution_count": 92,
     "metadata": {},
     "output_type": "execute_result"
    }
   ],
   "source": [
    "f1_base = pd.DataFrame(f1_base, columns = ['model','F1_score'])\n",
    "f1_base"
   ]
  },
  {
   "cell_type": "markdown",
   "metadata": {},
   "source": [
    "<a name='p2' /></a>\n",
    "## 2.1 Baseline Tuning"
   ]
  },
  {
   "cell_type": "markdown",
   "metadata": {},
   "source": [
    "1.NB"
   ]
  },
  {
   "cell_type": "code",
   "execution_count": 93,
   "metadata": {},
   "outputs": [
    {
     "data": {
      "text/plain": [
       "{'var_smoothing': 0.006579332246575682}"
      ]
     },
     "execution_count": 93,
     "metadata": {},
     "output_type": "execute_result"
    }
   ],
   "source": [
    "nb_classifier = GaussianNB()\n",
    "\n",
    "params_NB = {'var_smoothing': np.logspace(0,-9, num=100)}\n",
    "\n",
    "gs_NB = GridSearchCV(estimator=nb_classifier, \n",
    "                 param_grid=params_NB, \n",
    "                 cv=5,\n",
    "                 n_jobs = -1, \n",
    "                 scoring='accuracy') \n",
    "\n",
    "gs_NB.fit(X_train_norm, y_train)\n",
    "gs_NB.best_params_"
   ]
  },
  {
   "cell_type": "code",
   "execution_count": 94,
   "metadata": {},
   "outputs": [
    {
     "name": "stdout",
     "output_type": "stream",
     "text": [
      "Accuracy Score for NB: 0.6413383446789497\n",
      "F1 score for NB: 0.6205716922523613\n",
      "           Pred: 0  Pred: 1\n",
      "Actual: 0    16651     3496\n",
      "Actual: 1    10150     7750\n"
     ]
    }
   ],
   "source": [
    "nb_1 = gs_NB.best_estimator_\n",
    "cm_nb_1,score_nb_1,f1_nb_1 = Clf_train(nb_1, X_train_norm, y_train, X_test_norm)\n",
    "\n",
    "print(f\"Accuracy Score for NB: {score_nb_1}\")\n",
    "print(f\"F1 score for NB: {f1_nb_1}\")\n",
    "print(cm_nb_1)"
   ]
  },
  {
   "cell_type": "markdown",
   "metadata": {},
   "source": [
    "2.LR"
   ]
  },
  {
   "cell_type": "code",
   "execution_count": 97,
   "metadata": {},
   "outputs": [
    {
     "data": {
      "text/plain": [
       "{'C': 1.0}"
      ]
     },
     "execution_count": 97,
     "metadata": {},
     "output_type": "execute_result"
    }
   ],
   "source": [
    "lr_classifier = LogisticRegression(max_iter=500,random_state = seed)\n",
    "#solver = 'saga', max_iter=1000\n",
    "params_LR = {\n",
    "            #'solver':['sag', 'saga','liblinear'],\n",
    "            #'penalty': ['l2','l1'],\n",
    "            'C': [10, 1.0, 0.1, 0.01]\n",
    "            #'C': [5, 10, 15]\n",
    "}\n",
    "\n",
    "gs_LR = GridSearchCV(estimator=lr_classifier, \n",
    "                 param_grid=params_LR, \n",
    "                 cv=5,\n",
    "                 n_jobs = -1, \n",
    "                 scoring='accuracy') \n",
    "\n",
    "gs_LR.fit(X_train_norm, y_train)\n",
    "gs_LR.best_params_"
   ]
  },
  {
   "cell_type": "code",
   "execution_count": 99,
   "metadata": {},
   "outputs": [
    {
     "name": "stdout",
     "output_type": "stream",
     "text": [
      "Accuracy Score for LR: 0.6954819039608905\n",
      "F1 score for LR: 0.692219730259774\n",
      "           Pred: 0  Pred: 1\n",
      "Actual: 0    15189     4958\n",
      "Actual: 1     6628    11272\n"
     ]
    }
   ],
   "source": [
    "lr_1 = gs_LR.best_estimator_\n",
    "cm_lr_1,score_lr_1,f1_lr_1 = Clf_train(lr_1, X_train_norm, y_train, X_test_norm)\n",
    "\n",
    "print(f\"Accuracy Score for LR: {score_lr_1}\")\n",
    "print(f\"F1 score for LR: {f1_lr_1}\")\n",
    "print(cm_lr_1)"
   ]
  },
  {
   "cell_type": "code",
   "execution_count": null,
   "metadata": {},
   "outputs": [],
   "source": [
    "0.695482"
   ]
  },
  {
   "cell_type": "markdown",
   "metadata": {},
   "source": [
    "3.RF"
   ]
  },
  {
   "cell_type": "code",
   "execution_count": 100,
   "metadata": {},
   "outputs": [
    {
     "data": {
      "text/plain": [
       "{'max_depth': None, 'n_estimators': 200}"
      ]
     },
     "execution_count": 100,
     "metadata": {},
     "output_type": "execute_result"
    }
   ],
   "source": [
    "rf_classifier = RandomForestClassifier(random_state = seed)\n",
    "\n",
    "params_RF = {\n",
    "     'n_estimators': [100, 200],\n",
    "     'max_depth':[5, None], \n",
    "     #'min_samples_split':[2, 3],\n",
    "     #'min_samples_leaf':[1, 3],\n",
    "    \n",
    "}\n",
    "\n",
    "gs_RF = GridSearchCV(estimator=rf_classifier, \n",
    "                 param_grid=params_RF, \n",
    "                 cv=5,\n",
    "                 n_jobs = -1, \n",
    "                 scoring='accuracy') \n",
    "\n",
    "gs_RF.fit(X_train_norm, y_train)\n",
    "gs_RF.best_params_"
   ]
  },
  {
   "cell_type": "code",
   "execution_count": 101,
   "metadata": {},
   "outputs": [
    {
     "name": "stdout",
     "output_type": "stream",
     "text": [
      "Accuracy Score for RF: 0.6984519147370357\n",
      "F1 score for RF: 0.6971818599439763\n",
      "           Pred: 0  Pred: 1\n",
      "Actual: 0    14519     5628\n",
      "Actual: 1     5845    12055\n"
     ]
    }
   ],
   "source": [
    "rf_1 = gs_RF.best_estimator_\n",
    "cm_rf_1,score_rf_1,f1_rf_1 = Clf_train(rf_1, X_train_norm, y_train, X_test_norm)\n",
    "\n",
    "print(f\"Accuracy Score for RF: {score_rf_1}\")\n",
    "print(f\"F1 score for RF: {f1_rf_1}\")\n",
    "print(cm_rf_1)"
   ]
  },
  {
   "cell_type": "markdown",
   "metadata": {},
   "source": [
    "4.XGB"
   ]
  },
  {
   "cell_type": "code",
   "execution_count": 102,
   "metadata": {},
   "outputs": [
    {
     "data": {
      "text/plain": [
       "{'gamma': 1, 'max_depth': None, 'n_estimators': 100, 'reg_alpha': 1}"
      ]
     },
     "execution_count": 102,
     "metadata": {},
     "output_type": "execute_result"
    }
   ],
   "source": [
    "xgb_classifier = XGBClassifier(random_state = seed)\n",
    "\n",
    "params_XGB = {\n",
    "    'gamma':[0, 1],\n",
    "    'max_depth':[10, None],\n",
    "    'n_estimators':[100,200],\n",
    "    #'eta':[0.1,0.3],\n",
    "    #'subsample':[0.5,1],\n",
    "    #'colsample_bytree':[0.5, 1],\n",
    "    'reg_alpha':[0.5,1]\n",
    "}\n",
    "\n",
    "gs_XGB = GridSearchCV(estimator=xgb_classifier, \n",
    "                 param_grid=params_XGB, \n",
    "                 cv=5,\n",
    "                 n_jobs = -1, \n",
    "                 scoring='accuracy') \n",
    "\n",
    "gs_XGB.fit(X_train_norm, y_train)\n",
    "gs_XGB.best_params_"
   ]
  },
  {
   "cell_type": "code",
   "execution_count": 103,
   "metadata": {},
   "outputs": [
    {
     "name": "stdout",
     "output_type": "stream",
     "text": [
      "Accuracy Score for XGB: 0.7042605198833022\n",
      "F1 score for XGB: 0.7029438768315028\n",
      "           Pred: 0  Pred: 1\n",
      "Actual: 0    14664     5483\n",
      "Actual: 1     5769    12131\n"
     ]
    }
   ],
   "source": [
    "xgb_1 = gs_XGB.best_estimator_\n",
    "cm_xgb_1,score_xgb_1,f1_xgb_1 = Clf_train(xgb_1, X_train_norm, y_train, X_test_norm)\n",
    "\n",
    "print(f\"Accuracy Score for XGB: {score_xgb_1}\")\n",
    "print(f\"F1 score for XGB: {f1_xgb_1}\")\n",
    "print(cm_xgb_1)"
   ]
  },
  {
   "cell_type": "markdown",
   "metadata": {},
   "source": [
    "5.LGBM"
   ]
  },
  {
   "cell_type": "code",
   "execution_count": 104,
   "metadata": {},
   "outputs": [
    {
     "data": {
      "text/plain": [
       "{'learning_rate': 0.1,\n",
       " 'max_depth': None,\n",
       " 'min_child_samples': 15,\n",
       " 'min_child_weight': 0.001,\n",
       " 'n_estimators': 200,\n",
       " 'reg_alpha': 1}"
      ]
     },
     "execution_count": 104,
     "metadata": {},
     "output_type": "execute_result"
    }
   ],
   "source": [
    "lgbm_classifier = LGBMClassifier(random_state = seed)\n",
    "\n",
    "params_lgbm = {\n",
    "    'learning_rate' : [0.1,0.3],\n",
    "    'max_depth':[10,None],\n",
    "    'n_estimators':[100,200],\n",
    "    #'subsample': [0.3, 0.8], \n",
    "    #'colsample_bytree': [0.5, 1],\n",
    "    'reg_alpha':[0.5,1],\n",
    "    #'reg_lambda':[0.5,1],\n",
    "    'min_child_weight':[1e-3,1e-2],\n",
    "    'min_child_samples':[15,20]\n",
    "}\n",
    "\n",
    "gs_lgbm = GridSearchCV(estimator=lgbm_classifier, \n",
    "                 param_grid=params_lgbm, \n",
    "                 cv=5,\n",
    "                 n_jobs = -1, \n",
    "                 scoring='accuracy') \n",
    "\n",
    "gs_lgbm.fit(X_train_norm, y_train)\n",
    "\n",
    "gs_lgbm.best_params_"
   ]
  },
  {
   "cell_type": "code",
   "execution_count": 31,
   "metadata": {},
   "outputs": [
    {
     "name": "stdout",
     "output_type": "stream",
     "text": [
      "Accuracy Score for LGB: 0.7057061003495676\n",
      "F1 score for LGB: 0.704639839334021\n",
      "           Pred: 0  Pred: 1\n",
      "Actual: 0    14568     5579\n",
      "Actual: 1     5618    12282\n"
     ]
    }
   ],
   "source": [
    "lgb_1 = gs_lgbm.best_estimator_\n",
    "cm_lgb_1,score_lgb_1,f1_lgb_1 = Clf_train(lgb_1, X_train_norm, y_train, X_test_norm)\n",
    "\n",
    "print(f\"Accuracy Score for LGB: {score_lgb_1}\")\n",
    "print(f\"F1 score for LGB: {f1_lgb_1}\")\n",
    "print(cm_lgb_1)"
   ]
  },
  {
   "cell_type": "markdown",
   "metadata": {},
   "source": [
    "<a name='p3' /></a>\n",
    "## 2.3 Feature Selection"
   ]
  },
  {
   "cell_type": "code",
   "execution_count": 109,
   "metadata": {},
   "outputs": [
    {
     "name": "stdout",
     "output_type": "stream",
     "text": [
      "Logistic: done\n",
      "RandomForestClassifier: done\n",
      "XGBooostClassifier: done\n",
      "AdaBoostClassifier: done\n",
      "LightGBMClassifier: done\n"
     ]
    }
   ],
   "source": [
    "models = {\n",
    "    \"Logistic\": LogisticRegression(solver='liblinear',random_state = seed),\n",
    "    \n",
    "    \"RandomForestClassifier\":RandomForestClassifier(random_state = seed),\n",
    "    \n",
    "    #\"SupportVectorClassifier\":SVC(kernel='linear',random_state = seed),\n",
    "    \n",
    "    #\"GaussianNB\": GaussianNB(),\n",
    "\n",
    "    \"XGBooostClassifier\": XGBClassifier(random_state = seed),\n",
    "    \n",
    "    \"AdaBoostClassifier\":AdaBoostClassifier(random_state = seed),\n",
    "    \n",
    "    \"LightGBMClassifier\": LGBMClassifier(random_state = seed)\n",
    "\n",
    "}\n",
    "\n",
    "\n",
    "feature_selection = {}\n",
    "feature_names = np.array(X_train_norm.columns)\n",
    "\n",
    "for model_name in models:\n",
    "    model = models[model_name]\n",
    "    selector = SelectFromModel(estimator=model,threshold=-1, max_features=60).fit(X_train_norm, y_train)\n",
    "    feature_selection[model_name] = feature_names[selector.get_support()]\n",
    "    print(\"{}{}{}\".format(model_name, \": \", 'done'))"
   ]
  },
  {
   "cell_type": "code",
   "execution_count": 110,
   "metadata": {},
   "outputs": [],
   "source": [
    "#### select features using model votes >=3\n",
    "\n",
    "feature_count = dict(zip(feature_names,np.zeros(len(feature_names))))\n",
    "for i in feature_names:\n",
    "    for j in feature_selection:\n",
    "        if i in feature_selection[j]:\n",
    "            feature_count[i]+=1\n",
    "feature_count = pd.Series(feature_count).sort_values(ascending=False)\n",
    "\n",
    "# select by feature count\n",
    "features_selected = feature_count[feature_count>=3].index.tolist()"
   ]
  },
  {
   "cell_type": "code",
   "execution_count": 111,
   "metadata": {},
   "outputs": [
    {
     "data": {
      "text/plain": [
       "['tag_class1_numbers',\n",
       " 'web-scraping',\n",
       " 'flask',\n",
       " 'string',\n",
       " 'tkinter',\n",
       " 'opencv',\n",
       " 'scikit-learn',\n",
       " 'plot',\n",
       " 'keras',\n",
       " 'pyspark',\n",
       " 'pytorch',\n",
       " 'tensorflow',\n",
       " 'list',\n",
       " 'pyqt',\n",
       " 'numpy',\n",
       " 'selenium',\n",
       " 'tag_class0_numbers',\n",
       " 'image',\n",
       " 'code_include',\n",
       " 'class',\n",
       " 'Question_Char_Length',\n",
       " 'nlp',\n",
       " 'kivy',\n",
       " 'Weekday',\n",
       " 'Tag_Score',\n",
       " 'tag_numbers',\n",
       " 'function',\n",
       " 'datetime',\n",
       " 'oop',\n",
       " 'scrapy',\n",
       " 'plotly',\n",
       " 'sqlalchemy',\n",
       " 'seaborn',\n",
       " 'scipy',\n",
       " 'json',\n",
       " 'dataframe',\n",
       " 'pandas',\n",
       " 'python',\n",
       " 'regex',\n",
       " 'django',\n",
       " 'matplotlib',\n",
       " 'dictionary',\n",
       " 'Question_code_num',\n",
       " 'if-statement',\n",
       " 'amazon-web-services',\n",
       " 'beautifulsoup',\n",
       " 'image-processing',\n",
       " 'Question_word_counts',\n",
       " 'file',\n",
       " 'Title_word_counts',\n",
       " 'discord',\n",
       " 'Title_Char_Length',\n",
       " 'BadgeNum',\n",
       " 'UserDownVotes',\n",
       " 'UserUpVote',\n",
       " 'UserPageViews',\n",
       " 'Question_code_len',\n",
       " 'UserReputation',\n",
       " 'python-3.x',\n",
       " 'machine-learning',\n",
       " 'apache-spark',\n",
       " 'csv',\n",
       " 'arrays',\n",
       " 'pygame']"
      ]
     },
     "execution_count": 111,
     "metadata": {},
     "output_type": "execute_result"
    }
   ],
   "source": [
    "features_selected"
   ]
  },
  {
   "cell_type": "code",
   "execution_count": 112,
   "metadata": {},
   "outputs": [],
   "source": [
    "X_train_2=X_train_norm[features_selected]\n",
    "X_test_2=X_test_norm[features_selected]"
   ]
  },
  {
   "cell_type": "code",
   "execution_count": 114,
   "metadata": {},
   "outputs": [
    {
     "data": {
      "text/plain": [
       "64"
      ]
     },
     "execution_count": 114,
     "metadata": {},
     "output_type": "execute_result"
    }
   ],
   "source": [
    "len(features_selected)"
   ]
  },
  {
   "cell_type": "code",
   "execution_count": 115,
   "metadata": {},
   "outputs": [
    {
     "name": "stdout",
     "output_type": "stream",
     "text": [
      "Naive Bayes accuracy: 0.6276973217336452\n",
      "Naive Bayes f1 score: 0.5991101181702492\n",
      "Confusion matrix:\n",
      "           Pred: 0  Pred: 1\n",
      "Actual: 0    17021     3126\n",
      "Actual: 1    11039     6861\n",
      "========================================********************========================================\n",
      "Logistic Regression accuracy: 0.694351722869083\n",
      "Logistic Regression f1 score: 0.6910077843699008\n",
      "Confusion matrix:\n",
      "           Pred: 0  Pred: 1\n",
      "Actual: 0    15188     4959\n",
      "Actual: 1     6670    11230\n",
      "========================================********************========================================\n",
      "Random Forest accuracy: 0.6935106578705286\n",
      "Random Forest f1 score: 0.6921080134525293\n",
      "Confusion matrix:\n",
      "           Pred: 0  Pred: 1\n",
      "Actual: 0    14477     5670\n",
      "Actual: 1     5991    11909\n",
      "========================================********************========================================\n",
      "XGBoost accuracy: 0.703839987384025\n",
      "XGBoost f1 score: 0.7025691301218719\n",
      "Confusion matrix:\n",
      "           Pred: 0  Pred: 1\n",
      "Actual: 0    14633     5514\n",
      "Actual: 1     5754    12146\n",
      "========================================********************========================================\n",
      "LightGBM accuracy: 0.7030514889478803\n",
      "LightGBM f1 score: 0.7020287763052948\n",
      "Confusion matrix:\n",
      "           Pred: 0  Pred: 1\n",
      "Actual: 0    14489     5658\n",
      "Actual: 1     5640    12260\n",
      "========================================********************========================================\n"
     ]
    }
   ],
   "source": [
    "accuracy_select, f1_select = model_fit(X_train_2, y_train, X_test_2)"
   ]
  },
  {
   "cell_type": "code",
   "execution_count": 116,
   "metadata": {},
   "outputs": [
    {
     "data": {
      "text/html": [
       "<div>\n",
       "<style scoped>\n",
       "    .dataframe tbody tr th:only-of-type {\n",
       "        vertical-align: middle;\n",
       "    }\n",
       "\n",
       "    .dataframe tbody tr th {\n",
       "        vertical-align: top;\n",
       "    }\n",
       "\n",
       "    .dataframe thead th {\n",
       "        text-align: right;\n",
       "    }\n",
       "</style>\n",
       "<table border=\"1\" class=\"dataframe\">\n",
       "  <thead>\n",
       "    <tr style=\"text-align: right;\">\n",
       "      <th></th>\n",
       "      <th>model</th>\n",
       "      <th>Accuracy</th>\n",
       "    </tr>\n",
       "  </thead>\n",
       "  <tbody>\n",
       "    <tr>\n",
       "      <th>0</th>\n",
       "      <td>Naive Bayes</td>\n",
       "      <td>0.627697</td>\n",
       "    </tr>\n",
       "    <tr>\n",
       "      <th>1</th>\n",
       "      <td>Logistic Regression</td>\n",
       "      <td>0.694352</td>\n",
       "    </tr>\n",
       "    <tr>\n",
       "      <th>2</th>\n",
       "      <td>Random Forest</td>\n",
       "      <td>0.693511</td>\n",
       "    </tr>\n",
       "    <tr>\n",
       "      <th>3</th>\n",
       "      <td>XGBoost</td>\n",
       "      <td>0.703840</td>\n",
       "    </tr>\n",
       "    <tr>\n",
       "      <th>4</th>\n",
       "      <td>LightGBM</td>\n",
       "      <td>0.703051</td>\n",
       "    </tr>\n",
       "  </tbody>\n",
       "</table>\n",
       "</div>"
      ],
      "text/plain": [
       "                 model  Accuracy\n",
       "0          Naive Bayes  0.627697\n",
       "1  Logistic Regression  0.694352\n",
       "2        Random Forest  0.693511\n",
       "3              XGBoost  0.703840\n",
       "4             LightGBM  0.703051"
      ]
     },
     "execution_count": 116,
     "metadata": {},
     "output_type": "execute_result"
    }
   ],
   "source": [
    "accuracy_select = pd.DataFrame(accuracy_select, columns = ['model','Accuracy'])\n",
    "accuracy_select"
   ]
  },
  {
   "cell_type": "code",
   "execution_count": 117,
   "metadata": {},
   "outputs": [
    {
     "data": {
      "text/html": [
       "<div>\n",
       "<style scoped>\n",
       "    .dataframe tbody tr th:only-of-type {\n",
       "        vertical-align: middle;\n",
       "    }\n",
       "\n",
       "    .dataframe tbody tr th {\n",
       "        vertical-align: top;\n",
       "    }\n",
       "\n",
       "    .dataframe thead th {\n",
       "        text-align: right;\n",
       "    }\n",
       "</style>\n",
       "<table border=\"1\" class=\"dataframe\">\n",
       "  <thead>\n",
       "    <tr style=\"text-align: right;\">\n",
       "      <th></th>\n",
       "      <th>model</th>\n",
       "      <th>F1_score</th>\n",
       "    </tr>\n",
       "  </thead>\n",
       "  <tbody>\n",
       "    <tr>\n",
       "      <th>0</th>\n",
       "      <td>Naive Bayes</td>\n",
       "      <td>0.599110</td>\n",
       "    </tr>\n",
       "    <tr>\n",
       "      <th>1</th>\n",
       "      <td>Logistic Regression</td>\n",
       "      <td>0.691008</td>\n",
       "    </tr>\n",
       "    <tr>\n",
       "      <th>2</th>\n",
       "      <td>Random Forest</td>\n",
       "      <td>0.692108</td>\n",
       "    </tr>\n",
       "    <tr>\n",
       "      <th>3</th>\n",
       "      <td>XGBoost</td>\n",
       "      <td>0.702569</td>\n",
       "    </tr>\n",
       "    <tr>\n",
       "      <th>4</th>\n",
       "      <td>LightGBM</td>\n",
       "      <td>0.702029</td>\n",
       "    </tr>\n",
       "  </tbody>\n",
       "</table>\n",
       "</div>"
      ],
      "text/plain": [
       "                 model  F1_score\n",
       "0          Naive Bayes  0.599110\n",
       "1  Logistic Regression  0.691008\n",
       "2        Random Forest  0.692108\n",
       "3              XGBoost  0.702569\n",
       "4             LightGBM  0.702029"
      ]
     },
     "execution_count": 117,
     "metadata": {},
     "output_type": "execute_result"
    }
   ],
   "source": [
    "f1_select = pd.DataFrame(f1_select, columns = ['model','F1_score'])\n",
    "f1_select"
   ]
  },
  {
   "cell_type": "code",
   "execution_count": 118,
   "metadata": {},
   "outputs": [
    {
     "name": "stdout",
     "output_type": "stream",
     "text": [
      "                 model  Accuracy\n",
      "0          Naive Bayes  0.637186\n",
      "1  Logistic Regression  0.695482\n",
      "2        Random Forest  0.697006\n",
      "3              XGBoost  0.702946\n",
      "4             LightGBM  0.705075\n",
      "                 model  Accuracy\n",
      "0          Naive Bayes  0.627697\n",
      "1  Logistic Regression  0.694352\n",
      "2        Random Forest  0.693511\n",
      "3              XGBoost  0.703840\n",
      "4             LightGBM  0.703051\n"
     ]
    }
   ],
   "source": [
    "print(accuracy_base)\n",
    "print(accuracy_select)"
   ]
  },
  {
   "cell_type": "markdown",
   "metadata": {},
   "source": [
    "# Feature importance"
   ]
  },
  {
   "cell_type": "code",
   "execution_count": 108,
   "metadata": {},
   "outputs": [
    {
     "data": {
      "image/png": "[encoded data removed]",
      "text/plain": [
       "<Figure size 720x1080 with 1 Axes>"
      ]
     },
     "metadata": {},
     "output_type": "display_data"
    }
   ],
   "source": [
    "feature_scores = pd.Series(lgb_1.feature_importances_, index=X_train.columns).sort_values(ascending=False).head(20)\n",
    "f, ax = plt.subplots(figsize=(10, 15))\n",
    "ax = sns.barplot(x=feature_scores, y=feature_scores.index)\n",
    "ax.tick_params(axis='y',labelsize=13)\n",
    "ax.tick_params(axis='x',labelsize=13)\n",
    "ax.set_title(\"Feature importances (LGB)\", fontsize=13)\n",
    "ax.set_yticklabels(feature_scores.index, fontsize=13)\n",
    "ax.set_xlabel(\"Feature importance score\", fontsize=13)\n",
    "ax.set_ylabel(\"Features\", fontsize=13)\n",
    "plt.show()"
   ]
  },
  {
   "cell_type": "code",
   "execution_count": 60,
   "metadata": {},
   "outputs": [],
   "source": [
    "import eli5\n",
    "from eli5.sklearn import PermutationImportance"
   ]
  },
  {
   "cell_type": "code",
   "execution_count": 61,
   "metadata": {
    "scrolled": true
   },
   "outputs": [
    {
     "data": {
      "text/html": [
       "\n",
       "    <style>\n",
       "    table.eli5-weights tr:hover {\n",
       "        filter: brightness(85%);\n",
       "    }\n",
       "</style>\n",
       "\n",
       "\n",
       "\n",
       "    \n",
       "\n",
       "    \n",
       "\n",
       "    \n",
       "\n",
       "    \n",
       "\n",
       "    \n",
       "\n",
       "    \n",
       "\n",
       "\n",
       "    \n",
       "\n",
       "    \n",
       "\n",
       "    \n",
       "\n",
       "    \n",
       "\n",
       "    \n",
       "\n",
       "    \n",
       "\n",
       "\n",
       "    \n",
       "\n",
       "    \n",
       "\n",
       "    \n",
       "\n",
       "    \n",
       "\n",
       "    \n",
       "        <table class=\"eli5-weights eli5-feature-importances\" style=\"border-collapse: collapse; border: none; margin-top: 0em; table-layout: auto;\">\n",
       "    <thead>\n",
       "    <tr style=\"border: none;\">\n",
       "        <th style=\"padding: 0 1em 0 0.5em; text-align: right; border: none;\">Weight</th>\n",
       "        <th style=\"padding: 0 0.5em 0 0.5em; text-align: left; border: none;\">Feature</th>\n",
       "    </tr>\n",
       "    </thead>\n",
       "    <tbody>\n",
       "    \n",
       "        <tr style=\"background-color: hsl(120, 100.00%, 80.00%); border: none;\">\n",
       "            <td style=\"padding: 0 1em 0 0.5em; text-align: right; border: none;\">\n",
       "                0.0967\n",
       "                \n",
       "                    &plusmn; 0.0027\n",
       "                \n",
       "            </td>\n",
       "            <td style=\"padding: 0 0.5em 0 0.5em; text-align: left; border: none;\">\n",
       "                tag_class1_numbers\n",
       "            </td>\n",
       "        </tr>\n",
       "    \n",
       "        <tr style=\"background-color: hsl(120, 100.00%, 87.79%); border: none;\">\n",
       "            <td style=\"padding: 0 1em 0 0.5em; text-align: right; border: none;\">\n",
       "                0.0478\n",
       "                \n",
       "                    &plusmn; 0.0052\n",
       "                \n",
       "            </td>\n",
       "            <td style=\"padding: 0 0.5em 0 0.5em; text-align: left; border: none;\">\n",
       "                Question_Char_Length\n",
       "            </td>\n",
       "        </tr>\n",
       "    \n",
       "        <tr style=\"background-color: hsl(120, 100.00%, 91.78%); border: none;\">\n",
       "            <td style=\"padding: 0 1em 0 0.5em; text-align: right; border: none;\">\n",
       "                0.0272\n",
       "                \n",
       "                    &plusmn; 0.0012\n",
       "                \n",
       "            </td>\n",
       "            <td style=\"padding: 0 0.5em 0 0.5em; text-align: left; border: none;\">\n",
       "                tag_class0_numbers\n",
       "            </td>\n",
       "        </tr>\n",
       "    \n",
       "        <tr style=\"background-color: hsl(120, 100.00%, 97.22%); border: none;\">\n",
       "            <td style=\"padding: 0 1em 0 0.5em; text-align: right; border: none;\">\n",
       "                0.0058\n",
       "                \n",
       "                    &plusmn; 0.0011\n",
       "                \n",
       "            </td>\n",
       "            <td style=\"padding: 0 0.5em 0 0.5em; text-align: left; border: none;\">\n",
       "                Tag_Score\n",
       "            </td>\n",
       "        </tr>\n",
       "    \n",
       "        <tr style=\"background-color: hsl(120, 100.00%, 97.30%); border: none;\">\n",
       "            <td style=\"padding: 0 1em 0 0.5em; text-align: right; border: none;\">\n",
       "                0.0055\n",
       "                \n",
       "                    &plusmn; 0.0013\n",
       "                \n",
       "            </td>\n",
       "            <td style=\"padding: 0 0.5em 0 0.5em; text-align: left; border: none;\">\n",
       "                pandas\n",
       "            </td>\n",
       "        </tr>\n",
       "    \n",
       "        <tr style=\"background-color: hsl(120, 100.00%, 97.90%); border: none;\">\n",
       "            <td style=\"padding: 0 1em 0 0.5em; text-align: right; border: none;\">\n",
       "                0.0039\n",
       "                \n",
       "                    &plusmn; 0.0011\n",
       "                \n",
       "            </td>\n",
       "            <td style=\"padding: 0 0.5em 0 0.5em; text-align: left; border: none;\">\n",
       "                list\n",
       "            </td>\n",
       "        </tr>\n",
       "    \n",
       "        <tr style=\"background-color: hsl(120, 100.00%, 97.95%); border: none;\">\n",
       "            <td style=\"padding: 0 1em 0 0.5em; text-align: right; border: none;\">\n",
       "                0.0037\n",
       "                \n",
       "                    &plusmn; 0.0006\n",
       "                \n",
       "            </td>\n",
       "            <td style=\"padding: 0 0.5em 0 0.5em; text-align: left; border: none;\">\n",
       "                code_include\n",
       "            </td>\n",
       "        </tr>\n",
       "    \n",
       "        <tr style=\"background-color: hsl(120, 100.00%, 98.08%); border: none;\">\n",
       "            <td style=\"padding: 0 1em 0 0.5em; text-align: right; border: none;\">\n",
       "                0.0034\n",
       "                \n",
       "                    &plusmn; 0.0013\n",
       "                \n",
       "            </td>\n",
       "            <td style=\"padding: 0 0.5em 0 0.5em; text-align: left; border: none;\">\n",
       "                tensorflow\n",
       "            </td>\n",
       "        </tr>\n",
       "    \n",
       "        <tr style=\"background-color: hsl(120, 100.00%, 98.20%); border: none;\">\n",
       "            <td style=\"padding: 0 1em 0 0.5em; text-align: right; border: none;\">\n",
       "                0.0031\n",
       "                \n",
       "                    &plusmn; 0.0006\n",
       "                \n",
       "            </td>\n",
       "            <td style=\"padding: 0 0.5em 0 0.5em; text-align: left; border: none;\">\n",
       "                plot\n",
       "            </td>\n",
       "        </tr>\n",
       "    \n",
       "        <tr style=\"background-color: hsl(120, 100.00%, 98.44%); border: none;\">\n",
       "            <td style=\"padding: 0 1em 0 0.5em; text-align: right; border: none;\">\n",
       "                0.0025\n",
       "                \n",
       "                    &plusmn; 0.0010\n",
       "                \n",
       "            </td>\n",
       "            <td style=\"padding: 0 0.5em 0 0.5em; text-align: left; border: none;\">\n",
       "                Question_word_counts\n",
       "            </td>\n",
       "        </tr>\n",
       "    \n",
       "        <tr style=\"background-color: hsl(120, 100.00%, 98.50%); border: none;\">\n",
       "            <td style=\"padding: 0 1em 0 0.5em; text-align: right; border: none;\">\n",
       "                0.0024\n",
       "                \n",
       "                    &plusmn; 0.0006\n",
       "                \n",
       "            </td>\n",
       "            <td style=\"padding: 0 0.5em 0 0.5em; text-align: left; border: none;\">\n",
       "                dataframe\n",
       "            </td>\n",
       "        </tr>\n",
       "    \n",
       "        <tr style=\"background-color: hsl(120, 100.00%, 98.74%); border: none;\">\n",
       "            <td style=\"padding: 0 1em 0 0.5em; text-align: right; border: none;\">\n",
       "                0.0019\n",
       "                \n",
       "                    &plusmn; 0.0005\n",
       "                \n",
       "            </td>\n",
       "            <td style=\"padding: 0 0.5em 0 0.5em; text-align: left; border: none;\">\n",
       "                opencv\n",
       "            </td>\n",
       "        </tr>\n",
       "    \n",
       "        <tr style=\"background-color: hsl(120, 100.00%, 98.85%); border: none;\">\n",
       "            <td style=\"padding: 0 1em 0 0.5em; text-align: right; border: none;\">\n",
       "                0.0016\n",
       "                \n",
       "                    &plusmn; 0.0006\n",
       "                \n",
       "            </td>\n",
       "            <td style=\"padding: 0 0.5em 0 0.5em; text-align: left; border: none;\">\n",
       "                string\n",
       "            </td>\n",
       "        </tr>\n",
       "    \n",
       "        <tr style=\"background-color: hsl(120, 100.00%, 98.92%); border: none;\">\n",
       "            <td style=\"padding: 0 1em 0 0.5em; text-align: right; border: none;\">\n",
       "                0.0015\n",
       "                \n",
       "                    &plusmn; 0.0010\n",
       "                \n",
       "            </td>\n",
       "            <td style=\"padding: 0 0.5em 0 0.5em; text-align: left; border: none;\">\n",
       "                UserReputation\n",
       "            </td>\n",
       "        </tr>\n",
       "    \n",
       "        <tr style=\"background-color: hsl(120, 100.00%, 98.96%); border: none;\">\n",
       "            <td style=\"padding: 0 1em 0 0.5em; text-align: right; border: none;\">\n",
       "                0.0014\n",
       "                \n",
       "                    &plusmn; 0.0007\n",
       "                \n",
       "            </td>\n",
       "            <td style=\"padding: 0 0.5em 0 0.5em; text-align: left; border: none;\">\n",
       "                dictionary\n",
       "            </td>\n",
       "        </tr>\n",
       "    \n",
       "        <tr style=\"background-color: hsl(120, 100.00%, 99.00%); border: none;\">\n",
       "            <td style=\"padding: 0 1em 0 0.5em; text-align: right; border: none;\">\n",
       "                0.0013\n",
       "                \n",
       "                    &plusmn; 0.0009\n",
       "                \n",
       "            </td>\n",
       "            <td style=\"padding: 0 0.5em 0 0.5em; text-align: left; border: none;\">\n",
       "                UserPageViews\n",
       "            </td>\n",
       "        </tr>\n",
       "    \n",
       "        <tr style=\"background-color: hsl(120, 100.00%, 99.05%); border: none;\">\n",
       "            <td style=\"padding: 0 1em 0 0.5em; text-align: right; border: none;\">\n",
       "                0.0012\n",
       "                \n",
       "                    &plusmn; 0.0002\n",
       "                \n",
       "            </td>\n",
       "            <td style=\"padding: 0 0.5em 0 0.5em; text-align: left; border: none;\">\n",
       "                pyspark\n",
       "            </td>\n",
       "        </tr>\n",
       "    \n",
       "        <tr style=\"background-color: hsl(120, 100.00%, 99.07%); border: none;\">\n",
       "            <td style=\"padding: 0 1em 0 0.5em; text-align: right; border: none;\">\n",
       "                0.0012\n",
       "                \n",
       "                    &plusmn; 0.0004\n",
       "                \n",
       "            </td>\n",
       "            <td style=\"padding: 0 0.5em 0 0.5em; text-align: left; border: none;\">\n",
       "                scikit-learn\n",
       "            </td>\n",
       "        </tr>\n",
       "    \n",
       "        <tr style=\"background-color: hsl(120, 100.00%, 99.07%); border: none;\">\n",
       "            <td style=\"padding: 0 1em 0 0.5em; text-align: right; border: none;\">\n",
       "                0.0012\n",
       "                \n",
       "                    &plusmn; 0.0004\n",
       "                \n",
       "            </td>\n",
       "            <td style=\"padding: 0 0.5em 0 0.5em; text-align: left; border: none;\">\n",
       "                oop\n",
       "            </td>\n",
       "        </tr>\n",
       "    \n",
       "        <tr style=\"background-color: hsl(120, 100.00%, 99.08%); border: none;\">\n",
       "            <td style=\"padding: 0 1em 0 0.5em; text-align: right; border: none;\">\n",
       "                0.0012\n",
       "                \n",
       "                    &plusmn; 0.0005\n",
       "                \n",
       "            </td>\n",
       "            <td style=\"padding: 0 0.5em 0 0.5em; text-align: left; border: none;\">\n",
       "                Title_Char_Length\n",
       "            </td>\n",
       "        </tr>\n",
       "    \n",
       "    \n",
       "        \n",
       "            <tr style=\"background-color: hsl(120, 100.00%, 99.08%); border: none;\">\n",
       "                <td colspan=\"2\" style=\"padding: 0 0.5em 0 0.5em; text-align: center; border: none; white-space: nowrap;\">\n",
       "                    <i>&hellip; 98 more &hellip;</i>\n",
       "                </td>\n",
       "            </tr>\n",
       "        \n",
       "    \n",
       "    </tbody>\n",
       "</table>\n",
       "    \n",
       "\n",
       "    \n",
       "\n",
       "\n",
       "    \n",
       "\n",
       "    \n",
       "\n",
       "    \n",
       "\n",
       "    \n",
       "\n",
       "    \n",
       "\n",
       "    \n",
       "\n",
       "\n",
       "\n"
      ],
      "text/plain": [
       "<IPython.core.display.HTML object>"
      ]
     },
     "execution_count": 61,
     "metadata": {},
     "output_type": "execute_result"
    }
   ],
   "source": [
    "perm = PermutationImportance(lgb_1).fit(X_test_norm, y_test)\n",
    "eli5.show_weights(perm, feature_names = X_test_norm.columns.tolist())"
   ]
  },
  {
   "cell_type": "markdown",
   "metadata": {},
   "source": [
    "## sparse matrix"
   ]
  },
  {
   "cell_type": "code",
   "execution_count": 33,
   "metadata": {},
   "outputs": [],
   "source": [
    "from scipy.sparse import csr_matrix"
   ]
  },
  {
   "cell_type": "code",
   "execution_count": 45,
   "metadata": {},
   "outputs": [],
   "source": [
    "sparse_dataset = csr_matrix(X_train_norm)"
   ]
  },
  {
   "cell_type": "code",
   "execution_count": 46,
   "metadata": {},
   "outputs": [
    {
     "data": {
      "text/plain": [
       "<152185x116 sparse matrix of type '<class 'numpy.float64'>'\n",
       "\twith 2750670 stored elements in Compressed Sparse Row format>"
      ]
     },
     "execution_count": 46,
     "metadata": {},
     "output_type": "execute_result"
    }
   ],
   "source": [
    "sparse_dataset"
   ]
  },
  {
   "cell_type": "code",
   "execution_count": 49,
   "metadata": {},
   "outputs": [
    {
     "name": "stderr",
     "output_type": "stream",
     "text": [
      "/Users/chenyiqiu/opt/anaconda3/lib/python3.7/site-packages/seaborn/_decorators.py:43: FutureWarning: Pass the following variables as keyword args: x, y. From version 0.12, the only valid positional argument will be `data`, and passing other arguments without an explicit keyword will result in an error or misinterpretation.\n",
      "  FutureWarning\n"
     ]
    },
    {
     "data": {
      "text/plain": [
       "Text(0.5, 1.0, 'Compression')"
      ]
     },
     "execution_count": 49,
     "metadata": {},
     "output_type": "execute_result"
    },
    {
     "data": {
      "image/png": "[encoded data removed]",
      "text/plain": [
       "<Figure size 432x288 with 1 Axes>"
      ]
     },
     "metadata": {
      "needs_background": "light"
     },
     "output_type": "display_data"
    }
   ],
   "source": [
    "import seaborn as sns\n",
    "\n",
    "dense_size = np.array(X_train).nbytes/1e6\n",
    "sparse_size = (sparse_dataset.data.nbytes + sparse_dataset.indptr.nbytes + sparse_dataset.indices.nbytes)/1e6\n",
    "\n",
    "sns.barplot(['DENSE', 'SPARSE'], [dense_size, sparse_size])\n",
    "plt.ylabel('MB')\n",
    "plt.title('Compression')"
   ]
  },
  {
   "cell_type": "code",
   "execution_count": 51,
   "metadata": {},
   "outputs": [
    {
     "name": "stdout",
     "output_type": "stream",
     "text": [
      "9.12 s ± 817 ms per loop (mean ± std. dev. of 7 runs, 1 loop each)\n",
      "3.97 s ± 183 ms per loop (mean ± std. dev. of 7 runs, 1 loop each)\n"
     ]
    }
   ],
   "source": [
    "nb = LogisticRegression(max_iter=1000)\n",
    "%timeit nb.fit(X_train_norm, y_train)\n",
    "%timeit nb.fit(sparse_dataset, y_train)"
   ]
  },
  {
   "cell_type": "code",
   "execution_count": 50,
   "metadata": {},
   "outputs": [
    {
     "name": "stdout",
     "output_type": "stream",
     "text": [
      "537 ms ± 27 ms per loop (mean ± std. dev. of 7 runs, 1 loop each)\n",
      "515 ms ± 35.3 ms per loop (mean ± std. dev. of 7 runs, 1 loop each)\n"
     ]
    }
   ],
   "source": [
    "nb = GaussianNB()\n",
    "%timeit nb.fit(X_train_norm, y_train)\n",
    "%timeit nb.fit(sparse_dataset.toarray(), y_train)"
   ]
  },
  {
   "cell_type": "code",
   "execution_count": null,
   "metadata": {},
   "outputs": [],
   "source": []
  }
 ],
 "metadata": {
  "kernelspec": {
   "display_name": "Python 3",
   "language": "python",
   "name": "python3"
  },
  "language_info": {
   "codemirror_mode": {
    "name": "ipython",
    "version": 3
   },
   "file_extension": ".py",
   "mimetype": "text/x-python",
   "name": "python",
   "nbconvert_exporter": "python",
   "pygments_lexer": "ipython3",
   "version": "3.7.7"
  }
 },
 "nbformat": 4,
 "nbformat_minor": 4
}
